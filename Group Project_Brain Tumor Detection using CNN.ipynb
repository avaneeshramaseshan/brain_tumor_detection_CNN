{
 "cells": [
  {
   "cell_type": "code",
   "execution_count": 2,
   "id": "784dce3d",
   "metadata": {},
   "outputs": [
    {
     "name": "stdout",
     "output_type": "stream",
     "text": [
      "Defaulting to user installation because normal site-packages is not writeable\n",
      "Requirement already satisfied: kaggle in c:\\users\\avane\\appdata\\roaming\\python\\python313\\site-packages (1.7.4.2)\n",
      "Requirement already satisfied: bleach in c:\\users\\avane\\appdata\\roaming\\python\\python313\\site-packages (from kaggle) (6.2.0)\n",
      "Requirement already satisfied: certifi>=14.05.14 in c:\\users\\avane\\appdata\\roaming\\python\\python313\\site-packages (from kaggle) (2025.1.31)\n",
      "Requirement already satisfied: charset-normalizer in c:\\users\\avane\\appdata\\roaming\\python\\python313\\site-packages (from kaggle) (3.4.1)\n",
      "Requirement already satisfied: idna in c:\\users\\avane\\appdata\\roaming\\python\\python313\\site-packages (from kaggle) (3.10)\n",
      "Requirement already satisfied: protobuf in c:\\users\\avane\\appdata\\roaming\\python\\python313\\site-packages (from kaggle) (6.30.2)\n",
      "Requirement already satisfied: python-dateutil>=2.5.3 in c:\\users\\avane\\appdata\\roaming\\python\\python313\\site-packages (from kaggle) (2.9.0.post0)\n",
      "Requirement already satisfied: python-slugify in c:\\users\\avane\\appdata\\roaming\\python\\python313\\site-packages (from kaggle) (8.0.4)\n",
      "Requirement already satisfied: requests in c:\\users\\avane\\appdata\\roaming\\python\\python313\\site-packages (from kaggle) (2.32.3)\n",
      "Requirement already satisfied: setuptools>=21.0.0 in c:\\users\\avane\\appdata\\roaming\\python\\python313\\site-packages (from kaggle) (78.1.0)\n",
      "Requirement already satisfied: six>=1.10 in c:\\users\\avane\\appdata\\roaming\\python\\python313\\site-packages (from kaggle) (1.17.0)\n",
      "Requirement already satisfied: text-unidecode in c:\\users\\avane\\appdata\\roaming\\python\\python313\\site-packages (from kaggle) (1.3)\n",
      "Requirement already satisfied: tqdm in c:\\users\\avane\\appdata\\roaming\\python\\python313\\site-packages (from kaggle) (4.67.1)\n",
      "Requirement already satisfied: urllib3>=1.15.1 in c:\\users\\avane\\appdata\\roaming\\python\\python313\\site-packages (from kaggle) (2.3.0)\n",
      "Requirement already satisfied: webencodings in c:\\users\\avane\\appdata\\roaming\\python\\python313\\site-packages (from kaggle) (0.5.1)\n",
      "Requirement already satisfied: colorama in c:\\users\\avane\\appdata\\roaming\\python\\python313\\site-packages (from tqdm->kaggle) (0.4.6)\n"
     ]
    }
   ],
   "source": [
    "!pip install kaggle"
   ]
  },
  {
   "cell_type": "code",
   "execution_count": null,
   "id": "b1f545f4",
   "metadata": {},
   "outputs": [
    {
     "name": "stdout",
     "output_type": "stream",
     "text": [
      "Dataset URL: https://www.kaggle.com/datasets/gaborfodor/keras-pretrained-models\n",
      "License(s): CC-BY-SA-4.0\n",
      "keras-pretrained-models.zip: Skipping, found more recently modified local copy (use --force to force download)\n",
      "Dataset URL: https://www.kaggle.com/datasets/navoneel/brain-mri-images-for-brain-tumor-detection\n",
      "License(s): copyright-authors\n",
      "brain-mri-images-for-brain-tumor-detection.zip: Skipping, found more recently modified local copy (use --force to force download)\n",
      "Data source import complete.\n"
     ]
    }
   ],
   "source": [
    "import zipfile\n",
    "\n",
    "# Download datasets\n",
    "!kaggle datasets download -d gaborfodor/keras-pretrained-models\n",
    "!kaggle datasets download -d navoneel/brain-mri-images-for-brain-tumor-detection\n",
    "\n",
    "# Unzip the datasets\n",
    "with zipfile.ZipFile(\"keras-pretrained-models.zip\", 'r') as zip_ref:\n",
    "    zip_ref.extractall(\"keras_pretrained_models\")\n",
    "\n",
    "with zipfile.ZipFile(\"brain-mri-images-for-brain-tumor-detection.zip\", 'r') as zip_ref:\n",
    "    zip_ref.extractall(\"brain_mri_images\")\n",
    "\n",
    "print(\"Data source import complete.\")\n"
   ]
  }
 ],
 "metadata": {
  "kernelspec": {
   "display_name": "Python 3",
   "language": "python",
   "name": "python3"
  },
  "language_info": {
   "codemirror_mode": {
    "name": "ipython",
    "version": 3
   },
   "file_extension": ".py",
   "mimetype": "text/x-python",
   "name": "python",
   "nbconvert_exporter": "python",
   "pygments_lexer": "ipython3",
   "version": "3.13.2"
  }
 },
 "nbformat": 4,
 "nbformat_minor": 5
}
